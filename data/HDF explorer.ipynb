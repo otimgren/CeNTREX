{
 "cells": [
  {
   "cell_type": "code",
   "execution_count": 1,
   "id": "44438bf2",
   "metadata": {},
   "outputs": [],
   "source": [
    "import h5py"
   ]
  },
  {
   "cell_type": "code",
   "execution_count": 2,
   "id": "c60ad5c0",
   "metadata": {},
   "outputs": [],
   "source": [
    "f = h5py.File(\"camera_test.hdf\", 'r')"
   ]
  },
  {
   "cell_type": "code",
   "execution_count": 5,
   "id": "b5a5e3c1",
   "metadata": {},
   "outputs": [],
   "source": [
    "keys = list(f.keys())"
   ]
  },
  {
   "cell_type": "code",
   "execution_count": 10,
   "id": "0d7bb247",
   "metadata": {},
   "outputs": [
    {
     "name": "stdout",
     "output_type": "stream",
     "text": [
      "('amplification', 'NA')\n",
      "('amplifier', 'NA')\n",
      "('channels', 'yag, pmt, abs, absn, shutter, RC pd')\n",
      "('det_pol_freq', '1.56 MHz')\n",
      "('det_power', '35 mW')\n",
      "('lowpass', 'NA')\n",
      "('microwave_power_horn_j12', '-100 dBm')\n",
      "('microwave_power_j23', '-100 dBm')\n",
      "('mu_pol_freq', '1 MHz')\n",
      "('npasses', '15')\n",
      "('npasses det', '1')\n",
      "('rc_pol_freq', '0')\n",
      "('rc_power_after_eom', '0 mW')\n",
      "('run_description', 'Test camera on Q23')\n",
      "('shutter_freq', '5 Hz')\n",
      "('time_offset', 1630607819.4505384)\n",
      "('yag power', '48 mJ')\n",
      "('yag qswitch', '130')\n"
     ]
    }
   ],
   "source": [
    "for item in f[keys[0]].attrs.items():\n",
    "    print(item)"
   ]
  }
 ],
 "metadata": {
  "kernelspec": {
   "display_name": "Python 3",
   "language": "python",
   "name": "python3"
  },
  "language_info": {
   "codemirror_mode": {
    "name": "ipython",
    "version": 3
   },
   "file_extension": ".py",
   "mimetype": "text/x-python",
   "name": "python",
   "nbconvert_exporter": "python",
   "pygments_lexer": "ipython3",
   "version": "3.7.11"
  }
 },
 "nbformat": 4,
 "nbformat_minor": 5
}
